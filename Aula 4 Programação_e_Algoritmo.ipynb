{
  "nbformat": 4,
  "nbformat_minor": 0,
  "metadata": {
    "colab": {
      "name": "Aula 4 Programação_e_Algoritmo.ipynb",
      "provenance": [],
      "authorship_tag": "ABX9TyMoHN5BEo9XVwvaMSnvmJJH",
      "include_colab_link": true
    },
    "kernelspec": {
      "name": "python3",
      "display_name": "Python 3"
    }
  },
  "cells": [
    {
      "cell_type": "markdown",
      "metadata": {
        "id": "view-in-github",
        "colab_type": "text"
      },
      "source": [
        "<a href=\"https://colab.research.google.com/github/rpwobeto/MySharingFolder/blob/master/Aula%204%20Programa%C3%A7%C3%A3o_e_Algoritmo.ipynb\" target=\"_parent\"><img src=\"https://colab.research.google.com/assets/colab-badge.svg\" alt=\"Open In Colab\"/></a>"
      ]
    },
    {
      "cell_type": "markdown",
      "metadata": {
        "id": "8InkeR9g06Xr"
      },
      "source": [
        "**REPETIÇÃO**"
      ]
    },
    {
      "cell_type": "code",
      "metadata": {
        "colab": {
          "base_uri": "https://localhost:8080/"
        },
        "id": "1cjj8Mnk0grY",
        "outputId": "a3a02e1c-eade-4179-b0bd-3c225818007a"
      },
      "source": [
        "print (1)\n",
        "print (2)\n",
        "print (3)\n",
        "print (4)\n",
        "print (5)\n"
      ],
      "execution_count": null,
      "outputs": [
        {
          "output_type": "stream",
          "text": [
            "1\n",
            "2\n",
            "3\n",
            "4\n",
            "5\n"
          ],
          "name": "stdout"
        }
      ]
    },
    {
      "cell_type": "code",
      "metadata": {
        "colab": {
          "base_uri": "https://localhost:8080/"
        },
        "id": "IvcqSX9w06AK",
        "outputId": "d05011c7-0793-4d0d-aaa4-3641c2cf7ed7"
      },
      "source": [
        "x = 1\n",
        "print (x)\n",
        "x = 2\n",
        "print (x)\n",
        "x = 3\n",
        "print (x)\n",
        "x = 4\n",
        "print (x)\n",
        "x = 5\n",
        "print (x)"
      ],
      "execution_count": null,
      "outputs": [
        {
          "output_type": "stream",
          "text": [
            "1\n",
            "2\n",
            "3\n",
            "4\n",
            "5\n"
          ],
          "name": "stdout"
        }
      ]
    },
    {
      "cell_type": "code",
      "metadata": {
        "colab": {
          "base_uri": "https://localhost:8080/"
        },
        "id": "VZsT3DAD1Uoy",
        "outputId": "a9c91213-ccf5-4c0e-9b49-1e2469b94cf6"
      },
      "source": [
        "x = 1\n",
        "print (x)\n",
        "x = x + 1\n",
        "print (x)\n",
        "x = x + 1\n",
        "print (x)\n",
        "x = x + 1\n",
        "print (x)\n",
        "x = x + 1\n",
        "print (x)\n",
        "x = x + 1"
      ],
      "execution_count": null,
      "outputs": [
        {
          "output_type": "stream",
          "text": [
            "1\n",
            "2\n",
            "3\n",
            "4\n",
            "5\n"
          ],
          "name": "stdout"
        }
      ]
    },
    {
      "cell_type": "markdown",
      "metadata": {
        "id": "xwid4ccE2Iwy"
      },
      "source": [
        "**ESTRUTURA DE REPETIÇÃO WHILE**"
      ]
    },
    {
      "cell_type": "code",
      "metadata": {
        "colab": {
          "base_uri": "https://localhost:8080/"
        },
        "id": "l0N3891e2PLY",
        "outputId": "fb042cc4-73e1-4e19-e72f-81c1a23b0cd3"
      },
      "source": [
        "x = 1\n",
        "while (x <= 5):\n",
        "  print (x)\n",
        "  x = x +1"
      ],
      "execution_count": null,
      "outputs": [
        {
          "output_type": "stream",
          "text": [
            "1\n",
            "2\n",
            "3\n",
            "4\n",
            "5\n"
          ],
          "name": "stdout"
        }
      ]
    },
    {
      "cell_type": "code",
      "metadata": {
        "id": "J1WpJPzA5b5I",
        "colab": {
          "base_uri": "https://localhost:8080/"
        },
        "outputId": "c1ef1a4a-1944-4474-f8c2-b03113016079"
      },
      "source": [
        "x = 1\n",
        "while (x <= 5):\n",
        "  print (x)\n",
        "  \n",
        "  #x = x + 1 (evitar o Loop infinito, atenção)"
      ],
      "execution_count": null,
      "outputs": [
        {
          "output_type": "stream",
          "text": [
            "1\n",
            "2\n",
            "3\n",
            "4\n",
            "5\n"
          ],
          "name": "stdout"
        }
      ]
    },
    {
      "cell_type": "code",
      "metadata": {
        "id": "Q5GJQhy85zeR"
      },
      "source": [
        "x = 0\n",
        "while (x <= 99):\n",
        "  print (x)\n",
        "  x = x + 1"
      ],
      "execution_count": null,
      "outputs": []
    },
    {
      "cell_type": "markdown",
      "metadata": {
        "id": "NZNz56vZ7nQS"
      },
      "source": [
        "**CONTADOR**"
      ]
    },
    {
      "cell_type": "code",
      "metadata": {
        "colab": {
          "base_uri": "https://localhost:8080/"
        },
        "id": "hBjb4DD36AbK",
        "outputId": "ebade47a-a829-402f-a92f-c632c14b004f"
      },
      "source": [
        "inicial = int(input('Qual valor deseja iniciar a contagem? '))\n",
        "final = int(input('Qual valor deseja encerrar a contagem? '))\n",
        "x = inicial\n",
        "while (x <= final):\n",
        "  if (x % 2 == 0):\n",
        "    print (x)\n",
        "  x = x + 1"
      ],
      "execution_count": null,
      "outputs": [
        {
          "output_type": "stream",
          "text": [
            "Qual valor deseja iniciar a contagem? 1\n",
            "Qual valor deseja encerrar a contagem? 5\n",
            "2\n",
            "4\n"
          ],
          "name": "stdout"
        }
      ]
    },
    {
      "cell_type": "code",
      "metadata": {
        "colab": {
          "base_uri": "https://localhost:8080/"
        },
        "id": "_ejfK618-Nk0",
        "outputId": "ddb06f0d-04ea-493d-e509-630fe06210c8"
      },
      "source": [
        "soma = 0\n",
        "cont = 1\n",
        "while (cont <= 5):\n",
        "  x = float(input('Digite a {} nota ' .format(cont)))\n",
        "  soma = soma + 1\n",
        "  cont = cont + 1\n",
        "media = soma / 5\n",
        "print ('Média final: {}' .format(media))\n"
      ],
      "execution_count": null,
      "outputs": [
        {
          "output_type": "stream",
          "text": [
            "Digite a 1 nota 45.6\n",
            "Digite a 2 nota 36.9\n",
            "Digite a 3 nota 67.8\n",
            "Digite a 4 nota 87.6\n",
            "Digite a 5 nota 40.6\n",
            "Média final: 1.0\n"
          ],
          "name": "stdout"
        }
      ]
    },
    {
      "cell_type": "markdown",
      "metadata": {
        "id": "UkCsWcsI_Z3w"
      },
      "source": [
        "**OPERADORES ESPECIAIS**"
      ]
    },
    {
      "cell_type": "markdown",
      "metadata": {
        "id": "kOuPURroF3P5"
      },
      "source": [
        "Operações de atribuição"
      ]
    },
    {
      "cell_type": "code",
      "metadata": {
        "colab": {
          "base_uri": "https://localhost:8080/"
        },
        "id": "6MVvlUUU_ZlJ",
        "outputId": "25d155f5-4787-4dbd-965b-e339c5c3951a"
      },
      "source": [
        "soma = 0 \n",
        "cont = 1\n",
        "while (cont <= 5):\n",
        "  x = int(input('Digite o {} número: ' .format(cont)))\n",
        "  soma += x\n",
        "  cont += 1\n",
        "print ('O somatório é {}' .format(soma))"
      ],
      "execution_count": null,
      "outputs": [
        {
          "output_type": "stream",
          "text": [
            "Digite o 1 número: 1\n",
            "Digite o 2 número: 1\n",
            "Digite o 3 número: 1\n",
            "Digite o 4 número: 1\n",
            "Digite o 5 número: 1\n",
            "O somatório é 5\n"
          ],
          "name": "stdout"
        }
      ]
    },
    {
      "cell_type": "markdown",
      "metadata": {
        "id": "5gBy8h22F8XT"
      },
      "source": [
        "**Validando dados de entrada**"
      ]
    },
    {
      "cell_type": "code",
      "metadata": {
        "colab": {
          "base_uri": "https://localhost:8080/"
        },
        "id": "naOFJ8CwF7SM",
        "outputId": "67aee51d-1b1f-4e61-dfbf-441ea45afbbd"
      },
      "source": [
        "# Validando a entrada\n",
        "x = int(input('Digite um valor maior que zero: '))\n",
        "while (x <= 0):\n",
        "  x = int(input('Digite um valor maior que zero: '))\n",
        "print ('Você digitou {}. Encerrando o programa...' .format(x)) "
      ],
      "execution_count": null,
      "outputs": [
        {
          "output_type": "stream",
          "text": [
            "Digite um valor maior que zero: 0\n",
            "Digite um valor maior que zero: 0\n",
            "Digite um valor maior que zero: 8\n",
            "Você digitou 8. Encerrando o programa...\n"
          ],
          "name": "stdout"
        }
      ]
    },
    {
      "cell_type": "markdown",
      "metadata": {
        "id": "A3ZJYnmtHZyi"
      },
      "source": [
        "**interrompendo um loop com break**"
      ]
    },
    {
      "cell_type": "code",
      "metadata": {
        "colab": {
          "base_uri": "https://localhost:8080/"
        },
        "id": "A8B8DwjPHgW8",
        "outputId": "665c2eee-1b54-471f-8cd9-392ca2c3978d"
      },
      "source": [
        "print ('Digite uma mensagem que irei repetir para você: ')\n",
        "print ('Para encerrar escreva \"sair\": ')\n",
        "\n",
        "while True:\n",
        "  texto = input ('')\n",
        "  print (texto)\n",
        "  if texto == 'sair':\n",
        "    break\n",
        "print ('Encerrando o programa...')"
      ],
      "execution_count": null,
      "outputs": [
        {
          "output_type": "stream",
          "text": [
            "Digite uma mensagem que irei repetir para você: \n",
            "Para encerrar escreva \"sair\": \n",
            "eu\n",
            "eu\n",
            "eu\n",
            "eu\n",
            "sair\n",
            "sair\n",
            "Encerrando o programa...\n"
          ],
          "name": "stdout"
        }
      ]
    },
    {
      "cell_type": "markdown",
      "metadata": {
        "id": "scWJIkzMIwm8"
      },
      "source": [
        "**VOLTANDO AO INICIO DO LAÇO COM CONTINUE**\n"
      ]
    },
    {
      "cell_type": "code",
      "metadata": {
        "colab": {
          "base_uri": "https://localhost:8080/"
        },
        "id": "hMDAavjHI9OY",
        "outputId": "dacfe84d-1692-4f65-cab6-f511d5f29ffd"
      },
      "source": [
        "while True:\n",
        "  nome = input ('Qual o seu nome? ')\n",
        "  if (nome != 'Lenhador'):\n",
        "    continue\n",
        "  senha = input ('Qual a sua senha? ')\n",
        "  if (senha == 'Uninter'):\n",
        "    break\n",
        "print ('Acesso concedido')"
      ],
      "execution_count": null,
      "outputs": [
        {
          "output_type": "stream",
          "text": [
            "Qual o seu nome? Lenhador\n",
            "Qual a sua senha? Uninter\n",
            "Acesso concedido\n"
          ],
          "name": "stdout"
        }
      ]
    },
    {
      "cell_type": "markdown",
      "metadata": {
        "id": "GwjIhZiqKNEd"
      },
      "source": [
        "**Valores Truthy e Falsey**"
      ]
    },
    {
      "cell_type": "code",
      "metadata": {
        "colab": {
          "base_uri": "https://localhost:8080/"
        },
        "id": "XMLurL5YKUUi",
        "outputId": "53737310-b9f9-4cb9-8388-f7397716e720"
      },
      "source": [
        "nome = ''\n",
        "while not nome:\n",
        "  nome = input ('Digite seu nome: ')\n",
        "valor = int(input('Digite um número qualquer: '))\n",
        "if valor:\n",
        "  print('Você digitou um valor diferente de zero.')\n",
        "else:\n",
        "  print ('Você digitou zero.')"
      ],
      "execution_count": null,
      "outputs": [
        {
          "output_type": "stream",
          "text": [
            "Digite seu nome: Ricardo\n",
            "Digite um número qualquer: 0\n",
            "Você digitou zero.\n"
          ],
          "name": "stdout"
        }
      ]
    },
    {
      "cell_type": "markdown",
      "metadata": {
        "id": "1a3J0ESRK7eY"
      },
      "source": [
        "**Estrutura de repetição FOR (PARA)**"
      ]
    },
    {
      "cell_type": "code",
      "metadata": {
        "colab": {
          "base_uri": "https://localhost:8080/"
        },
        "id": "0Pme0g3KLEJd",
        "outputId": "3eb645c4-cbf0-4930-d119-4ea25f76972c"
      },
      "source": [
        "for i in range (6):\n",
        "  print (i)"
      ],
      "execution_count": null,
      "outputs": [
        {
          "output_type": "stream",
          "text": [
            "0\n",
            "1\n",
            "2\n",
            "3\n",
            "4\n",
            "5\n"
          ],
          "name": "stdout"
        }
      ]
    },
    {
      "cell_type": "code",
      "metadata": {
        "colab": {
          "base_uri": "https://localhost:8080/"
        },
        "id": "CU0oq0B-OSOa",
        "outputId": "2f151143-e162-49cb-9aff-ffb1524eeef6"
      },
      "source": [
        "for i in range (1, 6, 1):\n",
        "  print (i)"
      ],
      "execution_count": null,
      "outputs": [
        {
          "output_type": "stream",
          "text": [
            "1\n",
            "2\n",
            "3\n",
            "4\n",
            "5\n"
          ],
          "name": "stdout"
        }
      ]
    },
    {
      "cell_type": "code",
      "metadata": {
        "colab": {
          "base_uri": "https://localhost:8080/"
        },
        "id": "ufMt1vU2PX6R",
        "outputId": "8d7e0274-4e95-4266-9066-7b84fa5d5bb3"
      },
      "source": [
        "for i in range (10, 0, -2):\n",
        "  print (i)"
      ],
      "execution_count": null,
      "outputs": [
        {
          "output_type": "stream",
          "text": [
            "10\n",
            "8\n",
            "6\n",
            "4\n",
            "2\n"
          ],
          "name": "stdout"
        }
      ]
    },
    {
      "cell_type": "code",
      "metadata": {
        "colab": {
          "base_uri": "https://localhost:8080/"
        },
        "id": "eLSv1xcuQ0Aq",
        "outputId": "c2c73b47-2297-4b2f-95f4-f9e70e79ed46"
      },
      "source": [
        "soma = 0\n",
        "qtd = 0\n",
        "for i in range (1, 101, 1):\n",
        "  if (i % 2 == 0):\n",
        "    soma += i\n",
        "    qtd += 1\n",
        "    media = soma / qtd\n",
        "print ('A média dos pares de 1 até 100 é {}.' .format(media))"
      ],
      "execution_count": null,
      "outputs": [
        {
          "output_type": "stream",
          "text": [
            "A média dos pares de 1 até 100 é 51.0.\n"
          ],
          "name": "stdout"
        }
      ]
    },
    {
      "cell_type": "markdown",
      "metadata": {
        "id": "6q5ducSqTB-Y"
      },
      "source": [
        "**ESTRUTURA DE REPETIÇÃO ANINHADAS**"
      ]
    },
    {
      "cell_type": "code",
      "metadata": {
        "id": "1O4symRUTZmN"
      },
      "source": [
        "#2 while\n",
        "tabuada = 1\n",
        "while tabuada <= 10:\n",
        "  print ('Tabuada do número {}' .format(tabuada))\n",
        "  i = 1\n",
        "  while i <= 10:\n",
        "    print ('{} x {} = {}' .format (tabuada, i, tabuada*i))\n",
        "    i += 1\n",
        "  tabuada += 1"
      ],
      "execution_count": null,
      "outputs": []
    },
    {
      "cell_type": "code",
      "metadata": {
        "id": "ON_pHIrtUHoa"
      },
      "source": [
        "#2 for\n",
        "for tabuada in range (1, 11, 1):\n",
        "  print ('Tabuada do número {}'.format (tabuada))\n",
        "  for i in range (1, 11, 1):\n",
        "    print ('{} x {} = {}' .format (tabuada, i, tabuada*i))"
      ],
      "execution_count": null,
      "outputs": []
    },
    {
      "cell_type": "code",
      "metadata": {
        "id": "Vpm0-N5KZ5Lw"
      },
      "source": [
        "# while + for\n",
        "tabuada = 1\n",
        "while tabuada <= 10:\n",
        "  print ('A tabuada do número {}' .format(tabuada))\n",
        "  for i in range (1, 11, 1):\n",
        "    print ('{} x {} = {}' .format (tabuada, i, tabuada*i ))\n",
        "  tabuada += 1"
      ],
      "execution_count": null,
      "outputs": []
    }
  ]
}