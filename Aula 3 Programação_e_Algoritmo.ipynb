{
  "nbformat": 4,
  "nbformat_minor": 0,
  "metadata": {
    "colab": {
      "name": "Aula 3 Programação e Algoritmo.ipynb",
      "provenance": [],
      "collapsed_sections": [],
      "authorship_tag": "ABX9TyNndAmzSb4ve3lDyQ3ucavo",
      "include_colab_link": true
    },
    "kernelspec": {
      "name": "python3",
      "display_name": "Python 3"
    }
  },
  "cells": [
    {
      "cell_type": "markdown",
      "metadata": {
        "id": "view-in-github",
        "colab_type": "text"
      },
      "source": [
        "<a href=\"https://colab.research.google.com/github/rpwobeto/MySharingFolder/blob/master/Aula%203%20Programa%C3%A7%C3%A3o_e_Algoritmo.ipynb\" target=\"_parent\"><img src=\"https://colab.research.google.com/assets/colab-badge.svg\" alt=\"Open In Colab\"/></a>"
      ]
    },
    {
      "cell_type": "code",
      "metadata": {
        "colab": {
          "base_uri": "https://localhost:8080/"
        },
        "id": "o6eUWx9KB_F3",
        "outputId": "3ad8af46-8be1-43ae-fce2-9992c95f7e90"
      },
      "source": [
        "# ler dois valores inteiros e compara ambos\n",
        "x = int(input('Digite um valor inteiro: '))\n",
        "y = int(input('Digite um segundo valor inteiro: '))\n",
        "if (x > y):\n",
        "  print ('O primeiro valor é maior que o segundo valor!')"
      ],
      "execution_count": null,
      "outputs": [
        {
          "output_type": "stream",
          "text": [
            "Digite um valor inteiro: 3\n",
            "Digite um segundo valor inteiro: 4\n"
          ],
          "name": "stdout"
        }
      ]
    },
    {
      "cell_type": "code",
      "metadata": {
        "colab": {
          "base_uri": "https://localhost:8080/"
        },
        "id": "t-1x_ttsKfSg",
        "outputId": "6b6acb58-794a-46dd-9e80-c350fd7296e6"
      },
      "source": [
        "# par ou impar\n",
        "x = int(input('Digite um valor inteiro: '))\n",
        "if (x % 2 == 0):\n",
        "  print ('O número é par!')\n",
        "else:\n",
        "  print ('O número é ímpar!')"
      ],
      "execution_count": null,
      "outputs": [
        {
          "output_type": "stream",
          "text": [
            "Digite um valor inteiro: 2\n",
            "O número é par!\n"
          ],
          "name": "stdout"
        }
      ]
    },
    {
      "cell_type": "markdown",
      "metadata": {
        "id": "NiqnC_9aTgVF"
      },
      "source": [
        "**EXPRESSÕES LÓGICAS E ÁLGEBRA BOOLEANA**"
      ]
    },
    {
      "cell_type": "code",
      "metadata": {
        "colab": {
          "base_uri": "https://localhost:8080/"
        },
        "id": "aN-q1YulTqXv",
        "outputId": "8c8e876d-ee4b-4677-fe2b-00f058e32bac"
      },
      "source": [
        "  # not\n",
        "  x = True\n",
        "  y = False\n",
        "  print (not x)\n",
        "  print (not y)\n"
      ],
      "execution_count": null,
      "outputs": [
        {
          "output_type": "stream",
          "text": [
            "False\n",
            "True\n"
          ],
          "name": "stdout"
        }
      ]
    },
    {
      "cell_type": "code",
      "metadata": {
        "colab": {
          "base_uri": "https://localhost:8080/"
        },
        "id": "qc-ubdyqZtgK",
        "outputId": "e53de501-86b3-434f-b385-ca97d33651aa"
      },
      "source": [
        "# and\n",
        "x = True\n",
        "y = False\n",
        "print (x and y)"
      ],
      "execution_count": null,
      "outputs": [
        {
          "output_type": "stream",
          "text": [
            "False\n"
          ],
          "name": "stdout"
        }
      ]
    },
    {
      "cell_type": "code",
      "metadata": {
        "id": "o-3TnydVZ2ii",
        "colab": {
          "base_uri": "https://localhost:8080/"
        },
        "outputId": "873613f8-5402-4383-f120-61b192d19828"
      },
      "source": [
        "# or\n",
        "x = True\n",
        "y = False\n",
        "print (x or y)"
      ],
      "execution_count": null,
      "outputs": [
        {
          "output_type": "stream",
          "text": [
            "True\n"
          ],
          "name": "stdout"
        }
      ]
    },
    {
      "cell_type": "markdown",
      "metadata": {
        "id": "_Aal13sQgODn"
      },
      "source": [
        "**EXPRESSÕES LÓGICAS/BOOLEANAS**"
      ]
    },
    {
      "cell_type": "code",
      "metadata": {
        "colab": {
          "base_uri": "https://localhost:8080/"
        },
        "id": "3tXpyoE0gUPi",
        "outputId": "e035ccb3-da7a-4a11-99f7-a340511a1e7e"
      },
      "source": [
        "x = 10\n",
        "y = 1\n",
        "res = not x > y\n",
        "print (res)\n",
        "# primeiro ele vai fazer o operador relacional 1°) x > y e depois ele vai fazer o NOT"
      ],
      "execution_count": null,
      "outputs": [
        {
          "output_type": "stream",
          "text": [
            "False\n"
          ],
          "name": "stdout"
        }
      ]
    },
    {
      "cell_type": "code",
      "metadata": {
        "colab": {
          "base_uri": "https://localhost:8080/"
        },
        "id": "VQdsLlpwj0Zh",
        "outputId": "6ab876f7-fe2a-41f3-fc8e-3e289addef50"
      },
      "source": [
        "x = 10\n",
        "y = 1\n",
        "z = 5.5\n",
        "res = x > y and z == y\n",
        "print (res) \n",
        "# primeiro ele vai fazer os operadores relacionais: 1°) x > y e depois 2°) z == y e depois fazer o AND "
      ],
      "execution_count": null,
      "outputs": [
        {
          "output_type": "stream",
          "text": [
            "False\n"
          ],
          "name": "stdout"
        }
      ]
    },
    {
      "cell_type": "code",
      "metadata": {
        "colab": {
          "base_uri": "https://localhost:8080/"
        },
        "id": "AYBfszZnnXNy",
        "outputId": "dd192918-fdeb-4678-ca83-70fbc6ac4836"
      },
      "source": [
        "# Um aluno, para passar de ano, precisa ser aprovado em todas as matérias que está cursando.\n",
        "# Assuma que a média para a aprovação é a partir de 7, e que o aluno cursa 3 matérias, somente. \n",
        "# Escreva o algoritmo que leia a nota final do aluno em cada matéria e informe, na tela, se ele passou de ano ou não.\n",
        "\n",
        "m1 = float (input('Digite a nota da 1° matéria: '))\n",
        "m2 = float (input('Digite a nota da 2° matéria: '))\n",
        "m3 = float (input('Digite a nota da 3° matéria: '))\n",
        "if m1 >= 7 and m2 >= 7 and m3 >= 7:\n",
        "  print ('O aluno está aprovado de ano!')\n",
        "else:\n",
        "  print (\"O aluno não passou de ano!\")"
      ],
      "execution_count": null,
      "outputs": [
        {
          "output_type": "stream",
          "text": [
            "Digite a nota da 1° matéria: 12\n",
            "Digite a nota da 2° matéria: 68\n",
            "Digite a nota da 3° matéria: 90\n",
            "O aluno está aprovado de ano!\n"
          ],
          "name": "stdout"
        }
      ]
    },
    {
      "cell_type": "markdown",
      "metadata": {
        "id": "2vmG-3_XrtFx"
      },
      "source": [
        "**CONDICIONAIS ANINHADAS**"
      ]
    },
    {
      "cell_type": "code",
      "metadata": {
        "id": "ZU3Rh3-KruJw"
      },
      "source": [
        "# Escreva um algortimo em Python em que o usuário escolhe se quer comprar maçãs, laranjas ou bananas. Deverá ser apresentado na tela um menu com as opções:\n",
        "# 1 para maçã, 2 para laranja e 3 para banana.\n",
        "# Após escolhida a fruta, deve-se digitar quantas unidades se quer comprar. O algoritmo deve calcular o preço total a pagar do produto escolhido e mostrá-lo na tela.\n",
        "# Considere que uma maçã custa R$ 2,30, uma laranja, R$ 3,60, e uma banana, R$ 1,85"
      ],
      "execution_count": null,
      "outputs": []
    },
    {
      "cell_type": "code",
      "metadata": {
        "colab": {
          "base_uri": "https://localhost:8080/"
        },
        "id": "eXWpLi3EvxtL",
        "outputId": "78bd4d7d-0265-42d0-cc19-c8594d8801d9"
      },
      "source": [
        "print ('Escolha o que deseja comprar: ')\n",
        "print ('1 - Maçã')\n",
        "print ('2 - Laranja')\n",
        "print ('3 - Banana')\n",
        "produto = int(input('Qual a sua escolha? '))\n",
        "qtd = int(input('Quantas unidades? '))\n",
        "if (produto == 1 ):\n",
        "  pagar = qtd * 2.3\n",
        "  print ('Você comprou {} maçãs. Total à pagar R$ {}'  .format (qtd, pagar))\n",
        "else:\n",
        "  if (produto == 2):\n",
        "    pagar = qtd * 3.6\n",
        "    print ('Você comprou {} laranjas. Total à pagar R$ {}' .format (qtd, pagar))\n",
        "  else:\n",
        "    if (produto == 3):\n",
        "      pagar = qtd * 1.85\n",
        "      print ('Você comprou {} bananas. Total à pagar R$ {}' .format (qtd, pagar))\n",
        "    else:\n",
        "      print ('Produto inexistente!')"
      ],
      "execution_count": null,
      "outputs": [
        {
          "output_type": "stream",
          "text": [
            "Escolha o que deseja comprar: \n",
            "1 - Maçã\n",
            "2 - Laranja\n",
            "3 - Banana\n",
            "Qual a sua escolha? 1\n",
            "Quantas unidades? 2\n",
            "Você comprou 2 maçãs. Total à pagar R$ 4.6\n"
          ],
          "name": "stdout"
        }
      ]
    },
    {
      "cell_type": "markdown",
      "metadata": {
        "id": "3LrMLTJg8NsW"
      },
      "source": [
        "**CONDICIONAIS DE MÚLTIPLA ESCOLHA**"
      ]
    },
    {
      "cell_type": "code",
      "metadata": {
        "colab": {
          "base_uri": "https://localhost:8080/"
        },
        "id": "3xrXB6TB8Se4",
        "outputId": "7eb59e04-014b-4384-9225-e5b76cdc3a64"
      },
      "source": [
        "# Comprar maçãs, laranjas e bananas com elif \n",
        "\n",
        "print ('Escolha o que deseja comprar: ')\n",
        "print ('1 - Maçã')\n",
        "print ('2 - Laranja')\n",
        "print ('3 - Banana')\n",
        "produto = int(input('Qual a sua escolha? '))\n",
        "if (produto >=4 ):\n",
        "  print ('Produto inexistente!')\n",
        "else:\n",
        "  qtd = int(input('Quantas unidades? '))\n",
        "  if (produto == 1):\n",
        "    pagar = qtd * 2.3\n",
        "    print ('Você comprou {} maçãs. Total à pagar R$ {}' .format(qtd, pagar))\n",
        "  elif (produto == 2):\n",
        "    pagar = qtd * 3.6\n",
        "    print ('Você comprou {} laranjas. Total à pagar R$ {}' .format(qtd, pagar))\n",
        "  elif (produto == 3):\n",
        "    pagar = qtd * 1.85\n",
        "    print ('Você comprou {} bananas. Total à pagar R$ {}' .format(qtd, pagar))\n",
        "  else:\n",
        "    print ('Produto inexistente!')"
      ],
      "execution_count": null,
      "outputs": [
        {
          "output_type": "stream",
          "text": [
            "Escolha o que deseja comprar: \n",
            "1 - Maçã\n",
            "2 - Laranja\n",
            "3 - Banana\n",
            "Qual a sua escolha? 4\n",
            "Produto inexistente!\n"
          ],
          "name": "stdout"
        }
      ]
    },
    {
      "cell_type": "code",
      "metadata": {
        "colab": {
          "base_uri": "https://localhost:8080/"
        },
        "id": "u-CF6WVXDSj8",
        "outputId": "f9a4875f-1e66-4d8e-d6d5-cf9f0c03c6b2"
      },
      "source": [
        "# Escreva um algoritmo que lê um nome e uma idade\n",
        "# Caso o nome digitado seja Vinicius, escreva isso na tela\n",
        "# Caso o usuário digite qualquer outro nome, verifique sua idade. Se for menor que 18 anos, informe que é de menor.\n",
        "# Se for maior que 100 anos, informe que esta pessoa possivelmente não existe\n",
        "\n",
        "nome = input ('Qual seu nome? ')\n",
        "idade = int (input('Qual a sua idade? '))\n",
        "\n",
        "if nome == 'Vinicius':\n",
        "  print ('Olá Vinicius!')\n",
        "elif idade < 18:\n",
        "  print ('Você não é o Vinicius! E você é menor de idade!')\n",
        "elif idade >= 100:\n",
        "  print ('Diferente de você o Vinicius não é imortal!')\n",
        "else: \n",
        "    print ('Tá querendo me enganar?')"
      ],
      "execution_count": null,
      "outputs": [
        {
          "output_type": "stream",
          "text": [
            "Qual seu nome? Joao\n",
            "Qual a sua idade? 20\n",
            "Tá querendo me enganar?\n"
          ],
          "name": "stdout"
        }
      ]
    }
  ]
}