{
  "nbformat": 4,
  "nbformat_minor": 0,
  "metadata": {
    "colab": {
      "name": "Aula 2 Programação e Algoritmo.ipynb",
      "provenance": [],
      "authorship_tag": "ABX9TyMDkN2qrcYoBZVbnAFcLnM2",
      "include_colab_link": true
    },
    "kernelspec": {
      "name": "python3",
      "display_name": "Python 3"
    }
  },
  "cells": [
    {
      "cell_type": "markdown",
      "metadata": {
        "id": "view-in-github",
        "colab_type": "text"
      },
      "source": [
        "<a href=\"https://colab.research.google.com/github/rpwobeto/MySharingFolder/blob/master/Aula_2_Programa%C3%A7%C3%A3o_e_Algoritmo.ipynb\" target=\"_parent\"><img src=\"https://colab.research.google.com/assets/colab-badge.svg\" alt=\"Open In Colab\"/></a>"
      ]
    },
    {
      "cell_type": "code",
      "metadata": {
        "colab": {
          "base_uri": "https://localhost:8080/"
        },
        "id": "Ce8Paezt3Yi4",
        "outputId": "6d2e9dab-ab11-4fda-f100-45b1fe299b67"
      },
      "source": [
        "print ('Hello World')\n"
      ],
      "execution_count": null,
      "outputs": [
        {
          "output_type": "stream",
          "text": [
            "Hello World\n"
          ],
          "name": "stdout"
        }
      ]
    },
    {
      "cell_type": "code",
      "metadata": {
        "colab": {
          "base_uri": "https://localhost:8080/"
        },
        "id": "pWM6wQSTbNv3",
        "outputId": "e4849747-54b4-4098-b263-d3f929253163"
      },
      "source": [
        "print (2 + 3)"
      ],
      "execution_count": null,
      "outputs": [
        {
          "output_type": "stream",
          "text": [
            "5\n"
          ],
          "name": "stdout"
        }
      ]
    },
    {
      "cell_type": "code",
      "metadata": {
        "colab": {
          "base_uri": "https://localhost:8080/"
        },
        "id": "Q3JchvMbbTfb",
        "outputId": "8af65f51-a921-455b-fc55-d14f1136c9a2"
      },
      "source": [
        "print ('2 + 3')"
      ],
      "execution_count": null,
      "outputs": [
        {
          "output_type": "stream",
          "text": [
            "2 + 3\n"
          ],
          "name": "stdout"
        }
      ]
    },
    {
      "cell_type": "code",
      "metadata": {
        "colab": {
          "base_uri": "https://localhost:8080/"
        },
        "id": "OwVr259SbYox",
        "outputId": "6b53aaf6-42cb-4cef-f646-0157be945812"
      },
      "source": [
        "print ('2' + '3')"
      ],
      "execution_count": null,
      "outputs": [
        {
          "output_type": "stream",
          "text": [
            "23\n"
          ],
          "name": "stdout"
        }
      ]
    },
    {
      "cell_type": "code",
      "metadata": {
        "colab": {
          "base_uri": "https://localhost:8080/"
        },
        "id": "01B5-Wqybhgz",
        "outputId": "cab7e1af-93de-4d5e-9e63-519cbdea2b1c"
      },
      "source": [
        "print ('Hello ' + 'World')\n",
        "print ('Hello', 'World')"
      ],
      "execution_count": null,
      "outputs": [
        {
          "output_type": "stream",
          "text": [
            "Hello World\n",
            "Hello World\n"
          ],
          "name": "stdout"
        }
      ]
    },
    {
      "cell_type": "code",
      "metadata": {
        "colab": {
          "base_uri": "https://localhost:8080/"
        },
        "id": "_yHMLBlWb3B5",
        "outputId": "0a5868f4-7aa0-4510-8cf3-0d98d42838b7"
      },
      "source": [
        "print ('O resultado da somea de 2 + 3 é:', 2+3)"
      ],
      "execution_count": null,
      "outputs": [
        {
          "output_type": "stream",
          "text": [
            "O resultado da somea de 2 + 3 é: 5\n"
          ],
          "name": "stdout"
        }
      ]
    },
    {
      "cell_type": "code",
      "metadata": {
        "colab": {
          "base_uri": "https://localhost:8080/"
        },
        "id": "5tKP8x73bqOn",
        "outputId": "a5ad2caf-9020-4a8c-aada-70f56e82c241"
      },
      "source": [
        "print (10*(5 + 7)/4)"
      ],
      "execution_count": null,
      "outputs": [
        {
          "output_type": "stream",
          "text": [
            "30.0\n"
          ],
          "name": "stdout"
        }
      ]
    },
    {
      "cell_type": "code",
      "metadata": {
        "colab": {
          "base_uri": "https://localhost:8080/"
        },
        "id": "YR-C3Bw6eInJ",
        "outputId": "0c25a01f-dd3e-44b3-9a45-6a92c6292e3b"
      },
      "source": [
        "print (10*(5 + 7/4))"
      ],
      "execution_count": null,
      "outputs": [
        {
          "output_type": "stream",
          "text": [
            "67.5\n"
          ],
          "name": "stdout"
        }
      ]
    },
    {
      "cell_type": "markdown",
      "metadata": {
        "id": "rQK8K0dQfUoR"
      },
      "source": [
        "**Parte 2 - Dados, variáveis e**"
      ]
    },
    {
      "cell_type": "code",
      "metadata": {
        "colab": {
          "base_uri": "https://localhost:8080/"
        },
        "id": "xmR1CQkXfLqr",
        "outputId": "c9d34755-e483-4091-d96a-ee174c27bf21"
      },
      "source": [
        "nota = 8.5\n",
        "disciplina = 'Lógica de Programação e Algoritmos'\n",
        "\n",
        "print (nota)\n",
        "print (disciplina)"
      ],
      "execution_count": null,
      "outputs": [
        {
          "output_type": "stream",
          "text": [
            "8.5\n",
            "Lógica de Programação e Algoritmos\n"
          ],
          "name": "stdout"
        }
      ]
    },
    {
      "cell_type": "code",
      "metadata": {
        "colab": {
          "base_uri": "https://localhost:8080/"
        },
        "id": "jEama0rYifn0",
        "outputId": "6c0f0c79-6b28-4011-bb9d-699c02c675fe"
      },
      "source": [
        "print ('Disciplina:',disciplina,', Nota:', nota)"
      ],
      "execution_count": null,
      "outputs": [
        {
          "output_type": "stream",
          "text": [
            "Disciplina: Lógica de Programação e Algoritmos , Nota: 8.5\n"
          ],
          "name": "stdout"
        }
      ]
    },
    {
      "cell_type": "code",
      "metadata": {
        "colab": {
          "base_uri": "https://localhost:8080/"
        },
        "id": "fhOBAxLQifq2",
        "outputId": "9b4728f1-0014-4e5d-d174-1cfdb72eaed2"
      },
      "source": [
        "a = 1\n",
        "b = 5\n",
        "resposta = a == b\n",
        "print (resposta)"
      ],
      "execution_count": null,
      "outputs": [
        {
          "output_type": "stream",
          "text": [
            "False\n"
          ],
          "name": "stdout"
        }
      ]
    },
    {
      "cell_type": "code",
      "metadata": {
        "colab": {
          "base_uri": "https://localhost:8080/"
        },
        "id": "r_Q5F2IOuJym",
        "outputId": "c50aae4a-9296-4ed6-8bd7-3ea69c7d836d"
      },
      "source": [
        "resposta = a != b\n",
        "print (resposta)"
      ],
      "execution_count": null,
      "outputs": [
        {
          "output_type": "stream",
          "text": [
            "True\n"
          ],
          "name": "stdout"
        }
      ]
    },
    {
      "cell_type": "code",
      "metadata": {
        "colab": {
          "base_uri": "https://localhost:8080/"
        },
        "id": "7_ELndRQuXbc",
        "outputId": "5f572d24-db2f-47fd-f417-0f8cf19a13d1"
      },
      "source": [
        "frase = 'Olá Mundo!'\n",
        "print (frase)"
      ],
      "execution_count": null,
      "outputs": [
        {
          "output_type": "stream",
          "text": [
            "Olá Mundo!\n"
          ],
          "name": "stdout"
        }
      ]
    },
    {
      "cell_type": "code",
      "metadata": {
        "colab": {
          "base_uri": "https://localhost:8080/"
        },
        "id": "w-KXgDyC3Bq1",
        "outputId": "d825e445-990d-4be6-d8b3-d69e016cc7a1"
      },
      "source": [
        "print (frase [0])\n",
        "print (frase [1])\n",
        "print (frase [2])"
      ],
      "execution_count": null,
      "outputs": [
        {
          "output_type": "stream",
          "text": [
            "O\n",
            "l\n",
            "á\n"
          ],
          "name": "stdout"
        }
      ]
    },
    {
      "cell_type": "code",
      "metadata": {
        "colab": {
          "base_uri": "https://localhost:8080/"
        },
        "id": "9bEw5g8i3udK",
        "outputId": "36cae379-74b2-43ec-de1f-a29a04a291db"
      },
      "source": [
        "s1 = 'Lógica de Programação'\n",
        "s1 = s1 + ' e Algoritmo'\n",
        "print (s1)"
      ],
      "execution_count": null,
      "outputs": [
        {
          "output_type": "stream",
          "text": [
            "Lógica de Programação e Algoritmo\n"
          ],
          "name": "stdout"
        }
      ]
    },
    {
      "cell_type": "code",
      "metadata": {
        "colab": {
          "base_uri": "https://localhost:8080/"
        },
        "id": "kw19Fs8E4CW8",
        "outputId": "8a2c91ec-0de3-4a9e-deaa-4b314e7baafd"
      },
      "source": [
        "s1 = 'A' + '-'*10 + 'B'\n",
        "print (s1)"
      ],
      "execution_count": null,
      "outputs": [
        {
          "output_type": "stream",
          "text": [
            "A----------B\n"
          ],
          "name": "stdout"
        }
      ]
    },
    {
      "cell_type": "code",
      "metadata": {
        "colab": {
          "base_uri": "https://localhost:8080/",
          "height": 132
        },
        "id": "AnlrM_6fbKCB",
        "outputId": "04761e8e-c540-4a51-de2f-afa8cbc54470"
      },
      "source": [
        "s1 = 'Python' + '-'*5 + 'C' + '-'*5 + 'Java' + '-'*5 + 'PH' \n",
        "print (s1)\n",
        "s1 = 'Python' + '-'*5 + 'C' + '-'*5 + 'Java' + '-'*5 + 'PH' \n",
        "print (s1)"
      ],
      "execution_count": null,
      "outputs": [
        {
          "output_type": "error",
          "ename": "SyntaxError",
          "evalue": "ignored",
          "traceback": [
            "\u001b[0;36m  File \u001b[0;32m\"<ipython-input-97-d87f8a6138fa>\"\u001b[0;36m, line \u001b[0;32m4\u001b[0m\n\u001b[0;31m    print (s1)\\n\u001b[0m\n\u001b[0m                ^\u001b[0m\n\u001b[0;31mSyntaxError\u001b[0m\u001b[0;31m:\u001b[0m unexpected character after line continuation character\n"
          ]
        }
      ]
    },
    {
      "cell_type": "code",
      "metadata": {
        "colab": {
          "base_uri": "https://localhost:8080/"
        },
        "id": "vmWdrNgh49tE",
        "outputId": "139c22d9-d5c0-4ff4-c1bb-aec2c55f5442"
      },
      "source": [
        "nota = 8.5\n",
        "s1 = 'Você tirou %f na disciplina de Algoritmo' % nota\n",
        "print (s1)"
      ],
      "execution_count": null,
      "outputs": [
        {
          "output_type": "stream",
          "text": [
            "Você tirou 8.500000 na disciplina de Algoritmo\n"
          ],
          "name": "stdout"
        }
      ]
    },
    {
      "cell_type": "code",
      "metadata": {
        "colab": {
          "base_uri": "https://localhost:8080/"
        },
        "id": "2rO7HvOe5ab6",
        "outputId": "eef11845-7068-4012-e92b-f95570a4e2ee"
      },
      "source": [
        "nota = 8.5\n",
        "s1 = 'Você tirou %.2f na disciplina de Algoritmos' % nota\n",
        "print (s1)"
      ],
      "execution_count": null,
      "outputs": [
        {
          "output_type": "stream",
          "text": [
            "Você tirou 8.50 na disciplina de Algoritmos\n"
          ],
          "name": "stdout"
        }
      ]
    },
    {
      "cell_type": "code",
      "metadata": {
        "colab": {
          "base_uri": "https://localhost:8080/"
        },
        "id": "KWK7NEdu6VA2",
        "outputId": "ecdd0ff9-f8f5-484d-9ff5-836f9f39957b"
      },
      "source": [
        "nota = 8.5\n",
        "disciplina = 'Algoritmos'\n",
        "s1 = 'Você tirou %.2f na disciplina de %s' % (nota, disciplina)\n",
        "print(s1)"
      ],
      "execution_count": null,
      "outputs": [
        {
          "output_type": "stream",
          "text": [
            "Você tirou 8.50 na disciplina de Algoritmos\n"
          ],
          "name": "stdout"
        }
      ]
    },
    {
      "cell_type": "code",
      "metadata": {
        "colab": {
          "base_uri": "https://localhost:8080/"
        },
        "id": "of6FW2_K55RZ",
        "outputId": "fd2244c1-3b02-4b50-9b89-6f5cedde5186"
      },
      "source": [
        "nota = 8.5\n",
        "disciplina = 'Algoritmos'\n",
        "s1 = 'Você tirou {} na disciplina de {}' .format (nota, disciplina)\n",
        "print (s1)"
      ],
      "execution_count": null,
      "outputs": [
        {
          "output_type": "stream",
          "text": [
            "Você tirou 8.5 na disciplina de Algoritmos\n"
          ],
          "name": "stdout"
        }
      ]
    },
    {
      "cell_type": "code",
      "metadata": {
        "colab": {
          "base_uri": "https://localhost:8080/"
        },
        "id": "mpp64wlEAbiH",
        "outputId": "db92b438-7765-4810-ee10-d66ccb36ab70"
      },
      "source": [
        "s1 = 'Lógica de Programação e Algoritmos'\n",
        "print (s1[0:6])"
      ],
      "execution_count": null,
      "outputs": [
        {
          "output_type": "stream",
          "text": [
            "Lógica\n"
          ],
          "name": "stdout"
        }
      ]
    },
    {
      "cell_type": "code",
      "metadata": {
        "colab": {
          "base_uri": "https://localhost:8080/"
        },
        "id": "6wGS_zEoAoKR",
        "outputId": "5eee4368-1def-4490-aa38-0dcc23bcb06d"
      },
      "source": [
        "s1 = 'Lógica de Programação e Algoritmos'\n",
        "print (s1[24:34])"
      ],
      "execution_count": null,
      "outputs": [
        {
          "output_type": "stream",
          "text": [
            "Algoritmos\n"
          ],
          "name": "stdout"
        }
      ]
    },
    {
      "cell_type": "code",
      "metadata": {
        "colab": {
          "base_uri": "https://localhost:8080/"
        },
        "id": "6iOr6mXlA1lo",
        "outputId": "6eecb70c-eec6-4138-dc2a-ce34a96fb322"
      },
      "source": [
        "s1 = 'Lógica de Programação e Algoritmos'\n",
        "print (s1[:6])"
      ],
      "execution_count": null,
      "outputs": [
        {
          "output_type": "stream",
          "text": [
            "Lógica\n"
          ],
          "name": "stdout"
        }
      ]
    },
    {
      "cell_type": "code",
      "metadata": {
        "colab": {
          "base_uri": "https://localhost:8080/"
        },
        "id": "5WamoxFNEwAD",
        "outputId": "557ad736-8dd5-4a41-a2cc-e70cee305156"
      },
      "source": [
        " s1 = 'Lógica de Programação e Algoritmos'\n",
        " tamanho = len(s1)\n",
        " print (tamanho)"
      ],
      "execution_count": null,
      "outputs": [
        {
          "output_type": "stream",
          "text": [
            "34\n"
          ],
          "name": "stdout"
        }
      ]
    },
    {
      "cell_type": "markdown",
      "metadata": {
        "id": "43dUi7QQVS63"
      },
      "source": [
        "**Exercícios - Tema 2**"
      ]
    },
    {
      "cell_type": "code",
      "metadata": {
        "colab": {
          "base_uri": "https://localhost:8080/"
        },
        "id": "ciEO3Y_AVdC0",
        "outputId": "debe47f1-4057-4393-be24-da0c13ee8f79"
      },
      "source": [
        "print (2+3*3)\n",
        "print (4**2/3)\n",
        "print ((9**2 + 2) * 6 - 1)"
      ],
      "execution_count": null,
      "outputs": [
        {
          "output_type": "stream",
          "text": [
            "11\n",
            "5.333333333333333\n",
            "497\n"
          ],
          "name": "stdout"
        }
      ]
    },
    {
      "cell_type": "markdown",
      "metadata": {
        "id": "2bYOr20EFG7q"
      },
      "source": [
        "**Parte 3 - Entrada e Fluxo de execução**"
      ]
    },
    {
      "cell_type": "code",
      "metadata": {
        "colab": {
          "base_uri": "https://localhost:8080/"
        },
        "id": "Z46plJTgFNvH",
        "outputId": "292cc3b0-2a66-4a02-b024-7b333b26c4dd"
      },
      "source": [
        "idade = input ('Qual a sua idade? ')\n",
        "print (idade)"
      ],
      "execution_count": null,
      "outputs": [
        {
          "output_type": "stream",
          "text": [
            "Qual a sua idade? 39\n",
            "39\n"
          ],
          "name": "stdout"
        }
      ]
    },
    {
      "cell_type": "code",
      "metadata": {
        "colab": {
          "base_uri": "https://localhost:8080/"
        },
        "id": "Lc5ZB1F3FrPK",
        "outputId": "ba2c8474-f126-4d22-e610-0d7b151a2acb"
      },
      "source": [
        "nome = input ('Qual o seu nome?')\n",
        "print ('Olá {}, seja bem-vindo!' .format (nome))"
      ],
      "execution_count": null,
      "outputs": [
        {
          "output_type": "stream",
          "text": [
            "Qual o seu nome?Ricardo\n",
            "Olá Ricardo, seja bem-vindo!\n"
          ],
          "name": "stdout"
        }
      ]
    },
    {
      "cell_type": "code",
      "metadata": {
        "colab": {
          "base_uri": "https://localhost:8080/"
        },
        "id": "NvWrEOe-Giwr",
        "outputId": "78891d8f-1f90-4d10-8b7e-e498293e9963"
      },
      "source": [
        "nota = float(input('Qual nota você recebeu na disciplina? '))\n",
        "print ('Você tirou nota {}.' .format(nota))"
      ],
      "execution_count": null,
      "outputs": [
        {
          "output_type": "stream",
          "text": [
            "Qual nota você recebeu na disciplina? 8.9\n",
            "Você tirou nota 8.9.\n"
          ],
          "name": "stdout"
        }
      ]
    },
    {
      "cell_type": "code",
      "metadata": {
        "colab": {
          "base_uri": "https://localhost:8080/"
        },
        "id": "jfn2TAzFGmpP",
        "outputId": "21d54e23-bdde-4170-ed13-393b1da5a68e"
      },
      "source": [
        "s1 = int(input('Digite o primeiro número: '))\n",
        "s2 = int(input('Digite o segundo número: '))\n",
        "print ('A soma dos dois número é', s1 + s2)"
      ],
      "execution_count": null,
      "outputs": [
        {
          "output_type": "stream",
          "text": [
            "Digite o primeiro número: 12\n",
            "Digite o segundo número: 12\n",
            "A soma dos dois número é 24\n"
          ],
          "name": "stdout"
        }
      ]
    },
    {
      "cell_type": "code",
      "metadata": {
        "colab": {
          "base_uri": "https://localhost:8080/"
        },
        "id": "5MagDbGMIUv5",
        "outputId": "9035051f-198f-4d6d-a3d1-5da4b3ebb922"
      },
      "source": [
        "# Exercício 2.1\n",
        "x = int(input('Digite um número inteiro: '))\n",
        "y = int(input('Digite outro número inteiro: '))\n",
        "print (x + y)\n",
        "\n",
        "#maneira clássica\n",
        "res = 'O resultado da soma de %i com %i é %i.' %(x, y, x + y)\n",
        "print (res)\n",
        "\n",
        "# Maneira moderna\n",
        "res = 'O resultado da soma de {} com {} é {}.' .format(x, y, x + y)\n",
        "print (res)"
      ],
      "execution_count": null,
      "outputs": [
        {
          "output_type": "stream",
          "text": [
            "Digite um número inteiro: 12\n",
            "Digite outro número inteiro: 12\n",
            "24\n",
            "O resultado da soma de 12 com 12 é 24.\n",
            "O resultado da soma de 12 com 12 é 24.\n"
          ],
          "name": "stdout"
        }
      ]
    },
    {
      "cell_type": "code",
      "metadata": {
        "id": "kfNA0ngVMQ5J"
      },
      "source": [
        ""
      ],
      "execution_count": null,
      "outputs": []
    }
  ]
}