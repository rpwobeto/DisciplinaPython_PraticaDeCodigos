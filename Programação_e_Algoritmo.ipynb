Lógica de Programação e Algoritmo
        "# Aula 1 (Algoritmo e Programação)"
      ]
    },
    {
      "cell_type": "code",
      "metadata": {
        "colab": {
          "base_uri": "https://localhost:8080/"
        },
        "id": "hqKX8LCYwB6a",
        "outputId": "69404c90-8209-4399-f3a1-1f2a3290869c"
      },
      "source": [
        "print ('O resultado de 2 + 3 é:', 2+3)"
      ],
      "execution_count": null,
      "outputs": [
        {
          "output_type": "stream",
          "text": [
            "O resultado de 2 + 3 é: 5\n"
          ],
          "name": "stdout"
        }
      ]
    },
    {
      "cell_type": "code",
      "metadata": {
        "colab": {
          "base_uri": "https://localhost:8080/"
        },
        "id": "yj-7-yNdzY13",
        "outputId": "697550b4-32e3-4781-c804-8208aa728ef7"
      },
      "source": [
        "nota = 8.5\n",
        "print (disciplina, 'nota', nota)\n",
        "disciplina = 'Disciplina de Programação e Algoritmo'\n",
        "\n"
      ],
      "execution_count": null,
      "outputs": [
        {
          "output_type": "stream",
          "text": [
            "Disciplina de Programação e Algoritmo nota 8.5\n"
          ],
          "name": "stdout"
        }
      ]
    },
    {
      "cell_type": "code",
      "metadata": {
        "colab": {
          "base_uri": "https://localhost:8080/"
        },
        "id": "W_ztVgUg3EP4",
        "outputId": "a3584ba9-0a85-499e-9bcf-c82a506201c5"
      },
      "source": [
        "a = 1\n",
        "b = 2\n",
        "resposta = a==b\n",
        "print (resposta)\n"
      ],
      "execution_count": null,
      "outputs": [
        {
          "output_type": "stream",
          "text": [
            "False\n"
          ],
          "name": "stdout"
        }
      ]
    },
    {
      "cell_type": "code",
      "metadata": {
        "id": "UUENBEbX3ZBA"
      },
      "source": [
        ""
      ],
      "execution_count": null,
      "outputs": []
    },
    {
      "cell_type": "code",
      "metadata": {
        "colab": {
          "base_uri": "https://localhost:8080/"
        },
        "id": "JHtcWFHs3ZYB",
        "outputId": "1c4b3bfc-2513-402c-9260-98b85e372c95"
      },
      "source": [
        "a = 1\n",
        "b = 2\n",
        "resposta = a!=b\n",
        "print (resposta)\n"
      ],
      "execution_count": null,
      "outputs": [
        {
          "output_type": "stream",
          "text": [
            "True\n"
          ],
          "name": "stdout"
        }
      ]
    }
  ]
}
