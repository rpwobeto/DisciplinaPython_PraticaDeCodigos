{
  "nbformat": 4,
  "nbformat_minor": 0,
  "metadata": {
    "colab": {
      "name": "Aula 6 Programação_e_Algoritmo.ipynb",
      "provenance": [],
      "authorship_tag": "ABX9TyPa8/xPYZPzrruBUV6WRo1z",
      "include_colab_link": true
    },
    "kernelspec": {
      "display_name": "Python 3",
      "name": "python3"
    },
    "language_info": {
      "name": "python"
    }
  },
  "cells": [
    {
      "cell_type": "markdown",
      "metadata": {
        "id": "view-in-github",
        "colab_type": "text"
      },
      "source": [
        "<a href=\"https://colab.research.google.com/github/rpwobeto/MySharingFolder/blob/master/Aula%205%20Programa%C3%A7%C3%A3o_e_Algoritmo.ipynb\" target=\"_parent\"><img src=\"https://colab.research.google.com/assets/colab-badge.svg\" alt=\"Open In Colab\"/></a>"
      ]
    },
    {
      "cell_type": "markdown",
      "metadata": {
        "id": "n9-VKFEbaTxJ"
      },
      "source": [
        "**CONSTRUINDO E MANIPULANDO TUPLAS**"
      ]
    },
    {
      "cell_type": "code",
      "metadata": {
        "colab": {
          "base_uri": "https://localhost:8080/"
        },
        "id": "qbgWUjzxaGmG",
        "outputId": "858bb549-9d98-4689-f646-fda8ded22d34"
      },
      "source": [
        "mochila = ('Machado', 'Camisa', 'Bacon', 'Abacate')\n",
        "print (mochila)"
      ],
      "execution_count": null,
      "outputs": [
        {
          "output_type": "stream",
          "text": [
            "('Machado', 'Camisa', 'Bacon', 'Abacate')\n"
          ],
          "name": "stdout"
        }
      ]
    },
    {
      "cell_type": "code",
      "metadata": {
        "colab": {
          "base_uri": "https://localhost:8080/",
          "height": 238
        },
        "id": "XPoMqzW3Zs3R",
        "outputId": "3777ba66-0835-4f47-ec36-3a7947d94d0e"
      },
      "source": [
        "print(mochila[0]) #print do elemento 1 - Índice 0\n",
        "print(mochila[2]) #print do Elemento 3 - Índice 2\n",
        "print(mochila[0:2]) #print dos elementos 1 e 2 - Índice 0 e 1\n",
        "print(mochila[2:]) #print dos elementos a partir do índice 2\n",
        "print(mochila[-1]) #print do úlitmo"
      ],
      "execution_count": null,
      "outputs": [
        {
          "output_type": "error",
          "ename": "NameError",
          "evalue": "ignored",
          "traceback": [
            "\u001b[0;31m---------------------------------------------------------------------------\u001b[0m",
            "\u001b[0;31mNameError\u001b[0m                                 Traceback (most recent call last)",
            "\u001b[0;32m<ipython-input-1-bdca7e1183ec>\u001b[0m in \u001b[0;36m<module>\u001b[0;34m()\u001b[0m\n\u001b[0;32m----> 1\u001b[0;31m \u001b[0mprint\u001b[0m\u001b[0;34m(\u001b[0m\u001b[0mmochila\u001b[0m\u001b[0;34m[\u001b[0m\u001b[0;36m0\u001b[0m\u001b[0;34m]\u001b[0m\u001b[0;34m)\u001b[0m \u001b[0;31m#print do elemento 1 - Índice 0\u001b[0m\u001b[0;34m\u001b[0m\u001b[0;34m\u001b[0m\u001b[0m\n\u001b[0m\u001b[1;32m      2\u001b[0m \u001b[0mprint\u001b[0m\u001b[0;34m(\u001b[0m\u001b[0mmochila\u001b[0m\u001b[0;34m[\u001b[0m\u001b[0;36m2\u001b[0m\u001b[0;34m]\u001b[0m\u001b[0;34m)\u001b[0m \u001b[0;31m#print do Elemento 3 - Índice 2\u001b[0m\u001b[0;34m\u001b[0m\u001b[0;34m\u001b[0m\u001b[0m\n\u001b[1;32m      3\u001b[0m \u001b[0mprint\u001b[0m\u001b[0;34m(\u001b[0m\u001b[0mmochila\u001b[0m\u001b[0;34m[\u001b[0m\u001b[0;36m0\u001b[0m\u001b[0;34m:\u001b[0m\u001b[0;36m2\u001b[0m\u001b[0;34m]\u001b[0m\u001b[0;34m)\u001b[0m \u001b[0;31m#print dos elementos 1 e 2 - Índice 0 e 1\u001b[0m\u001b[0;34m\u001b[0m\u001b[0;34m\u001b[0m\u001b[0m\n\u001b[1;32m      4\u001b[0m \u001b[0mprint\u001b[0m\u001b[0;34m(\u001b[0m\u001b[0mmochila\u001b[0m\u001b[0;34m[\u001b[0m\u001b[0;36m2\u001b[0m\u001b[0;34m:\u001b[0m\u001b[0;34m]\u001b[0m\u001b[0;34m)\u001b[0m \u001b[0;31m#print dos elementos a partir do índice 2\u001b[0m\u001b[0;34m\u001b[0m\u001b[0;34m\u001b[0m\u001b[0m\n\u001b[1;32m      5\u001b[0m \u001b[0mprint\u001b[0m\u001b[0;34m(\u001b[0m\u001b[0mmochila\u001b[0m\u001b[0;34m[\u001b[0m\u001b[0;34m-\u001b[0m\u001b[0;36m1\u001b[0m\u001b[0;34m]\u001b[0m\u001b[0;34m)\u001b[0m \u001b[0;31m#print do úlitmo\u001b[0m\u001b[0;34m\u001b[0m\u001b[0;34m\u001b[0m\u001b[0m\n",
            "\u001b[0;31mNameError\u001b[0m: name 'mochila' is not defined"
          ]
        }
      ]
    },
    {
      "cell_type": "code",
      "metadata": {
        "colab": {
          "base_uri": "https://localhost:8080/",
          "height": 167
        },
        "id": "wzeINk7lZPsg",
        "outputId": "29a806a3-3ba8-464f-ef18-505359275b72"
      },
      "source": [
        "mochila[2] = 'Ovos' #a tupla é imutável"
      ],
      "execution_count": null,
      "outputs": [
        {
          "output_type": "error",
          "ename": "TypeError",
          "evalue": "ignored",
          "traceback": [
            "\u001b[0;31m---------------------------------------------------------------------------\u001b[0m",
            "\u001b[0;31mTypeError\u001b[0m                                 Traceback (most recent call last)",
            "\u001b[0;32m<ipython-input-10-10e5e4bdcd85>\u001b[0m in \u001b[0;36m<module>\u001b[0;34m()\u001b[0m\n\u001b[0;32m----> 1\u001b[0;31m \u001b[0mmochila\u001b[0m\u001b[0;34m[\u001b[0m\u001b[0;36m2\u001b[0m\u001b[0;34m]\u001b[0m \u001b[0;34m=\u001b[0m \u001b[0;34m'Ovos'\u001b[0m\u001b[0;34m\u001b[0m\u001b[0;34m\u001b[0m\u001b[0m\n\u001b[0m",
            "\u001b[0;31mTypeError\u001b[0m: 'tuple' object does not support item assignment"
          ]
        }
      ]
    },
    {
      "cell_type": "code",
      "metadata": {
        "colab": {
          "base_uri": "https://localhost:8080/"
        },
        "id": "RHM0vvqiZTpK",
        "outputId": "a88ce4af-1f63-4832-b9b7-c2d6cd773b7b"
      },
      "source": [
        "for item in mochila:\n",
        "  print ('Na minha mochila')"
      ],
      "execution_count": null,
      "outputs": [
        {
          "output_type": "stream",
          "text": [
            "Na minha mochila\n",
            "Na minha mochila\n",
            "Na minha mochila\n",
            "Na minha mochila\n"
          ],
          "name": "stdout"
        }
      ]
    },
    {
      "cell_type": "code",
      "metadata": {
        "colab": {
          "base_uri": "https://localhost:8080/"
        },
        "id": "SgO_9mmObuk4",
        "outputId": "b596ce42-99c2-47a0-f8bf-f55d968eba66"
      },
      "source": [
        "tam = len(mochila)\n",
        "for i in range (0, tam, 1):\n",
        "  print ('Na minha mochila tem: {}' .format (mochila[i]))\n"
      ],
      "execution_count": null,
      "outputs": [
        {
          "output_type": "stream",
          "text": [
            "Na minha mochila tem: Machado\n",
            "Na minha mochila tem: Camisa\n",
            "Na minha mochila tem: Bacon\n",
            "Na minha mochila tem: Abacate\n"
          ],
          "name": "stdout"
        }
      ]
    },
    {
      "cell_type": "code",
      "metadata": {
        "colab": {
          "base_uri": "https://localhost:8080/"
        },
        "id": "k6oHmERKjiHl",
        "outputId": "ff85c4f6-5af6-4ffb-dbab-ba859386a6e6"
      },
      "source": [
        "mochila = ('Machado', 'Camisa', 'Bacon', 'Abacate' )\n",
        "upgrade = ('Queijo', 'Canivete')\n",
        "mochila_grande = mochila + upgrade\n",
        "\n",
        "print (mochila)\n",
        "print (upgrade)\n",
        "print (mochila_grande)"
      ],
      "execution_count": null,
      "outputs": [
        {
          "output_type": "stream",
          "text": [
            "('Machado', 'Camisa', 'Bacon', 'Abacate')\n",
            "('Queijo', 'Canivete')\n",
            "('Machado', 'Camisa', 'Bacon', 'Abacate', 'Queijo', 'Canivete')\n"
          ],
          "name": "stdout"
        }
      ]
    },
    {
      "cell_type": "code",
      "metadata": {
        "colab": {
          "base_uri": "https://localhost:8080/"
        },
        "id": "Z1N_D0fbkOmh",
        "outputId": "4f40eb7f-6230-46fe-a1f0-62ac285ea433"
      },
      "source": [
        "mochila_grande_invertida = upgrade + mochila\n",
        "print (mochila_grande)\n",
        "print(mochila_grande_invertida)"
      ],
      "execution_count": null,
      "outputs": [
        {
          "output_type": "stream",
          "text": [
            "('Machado', 'Camisa', 'Bacon', 'Abacate', 'Queijo', 'Canivete')\n",
            "('Queijo', 'Canivete', 'Machado', 'Camisa', 'Bacon', 'Abacate')\n"
          ],
          "name": "stdout"
        }
      ]
    },
    {
      "cell_type": "markdown",
      "metadata": {
        "id": "h1_SfqcAnLxb"
      },
      "source": [
        "**DESEMPACOTAMENTO DE PARÂMETROS EM FUNÇÕES**\n"
      ]
    },
    {
      "cell_type": "code",
      "metadata": {
        "id": "34P3YCeTnSxq"
      },
      "source": [
        "def soma (*num):\n",
        "  soma = 0\n",
        "  print('Tupla: {}' .format(num))\n",
        "  for i in num:\n",
        "    soma += i\n",
        "  return soma\n",
        "\n",
        "# Programa principal\n",
        "print ('Resultado: {}\\n' .format(soma(1,2)))\n",
        "print ('Resultado: {}\\n' .format(soma(1,2,3,4,5,6,7,8,9)))\n"
      ],
      "execution_count": null,
      "outputs": []
    },
    {
      "cell_type": "markdown",
      "metadata": {
        "id": "ay94LGWiyfTM"
      },
      "source": [
        "**LISTAS [ ]**"
      ]
    },
    {
      "cell_type": "code",
      "metadata": {
        "colab": {
          "base_uri": "https://localhost:8080/"
        },
        "id": "9G_sqvjXydh0",
        "outputId": "7c3ad9d7-8f46-46ab-f3bc-2332e494c3a4"
      },
      "source": [
        "mochila = ('Machado', 'Camisa', 'Bacon', 'Abacate')\n",
        "print ('Tupla:', mochila)\n",
        "mochila = ['Machado', 'Camisa', 'Bacon', 'Abacate']\n",
        "print ('Lista: ', mochila)\n"
      ],
      "execution_count": null,
      "outputs": [
        {
          "output_type": "stream",
          "text": [
            "Tupla: ('Machado', 'Camisa', 'Bacon', 'Abacate')\n",
            "Lista:  ['Machado', 'Camisa', 'Bacon', 'Abacate']\n"
          ],
          "name": "stdout"
        }
      ]
    },
    {
      "cell_type": "code",
      "metadata": {
        "colab": {
          "base_uri": "https://localhost:8080/"
        },
        "id": "n8yoG6CJzhZp",
        "outputId": "ad8cc951-fc00-4e04-96ce-accd81bd110f"
      },
      "source": [
        "mochila[2] = 'Laranja'\n",
        "print ('Lista: ', mochila)"
      ],
      "execution_count": null,
      "outputs": [
        {
          "output_type": "stream",
          "text": [
            "Lista:  ['Machado', 'Camisa', 'Laranja', 'Abacate']\n"
          ],
          "name": "stdout"
        }
      ]
    },
    {
      "cell_type": "code",
      "metadata": {
        "colab": {
          "base_uri": "https://localhost:8080/"
        },
        "id": "_sqMTAuy1BCi",
        "outputId": "9a6d157f-a5ed-48c0-9615-f9e8dd3be680"
      },
      "source": [
        "mochila.append('Ovos')\n",
        "print ('Lista: ', mochila)"
      ],
      "execution_count": null,
      "outputs": [
        {
          "output_type": "stream",
          "text": [
            "Lista:  ['Machado', 'Canivete', 'Canivete', 'Abacate', 'Ovos']\n"
          ],
          "name": "stdout"
        }
      ]
    },
    {
      "cell_type": "code",
      "metadata": {
        "colab": {
          "base_uri": "https://localhost:8080/"
        },
        "id": "G7maAaTKz36x",
        "outputId": "48655408-11ca-45ce-edc7-2649fdecdf00"
      },
      "source": [
        "mochila.insert(1, 'Canivete')\n",
        "print ('Lista: ', mochila)"
      ],
      "execution_count": null,
      "outputs": [
        {
          "output_type": "stream",
          "text": [
            "Lista:  ['Machado', 'Canivete', 'Canivete', 'Abacate']\n"
          ],
          "name": "stdout"
        }
      ]
    },
    {
      "cell_type": "code",
      "metadata": {
        "colab": {
          "base_uri": "https://localhost:8080/"
        },
        "id": "yA1WBmZn0CBK",
        "outputId": "816a584b-fdbf-4c9b-e7f7-d1afe0105c02"
      },
      "source": [
        "del mochila[1]\n",
        "print ('Lista: ', mochila)\n",
        "mochila.remove('Ovos')\n",
        "print ('Lista: ', mochila) "
      ],
      "execution_count": null,
      "outputs": [
        {
          "output_type": "stream",
          "text": [
            "Lista:  ['Machado', 'Canivete', 'Abacate', 'Ovos']\n",
            "Lista:  ['Machado', 'Canivete', 'Abacate']\n"
          ],
          "name": "stdout"
        }
      ]
    },
    {
      "cell_type": "markdown",
      "metadata": {
        "id": "MgwK5Dqv8KV2"
      },
      "source": [
        "**CÓPIA DE LISTAS**"
      ]
    },
    {
      "cell_type": "code",
      "metadata": {
        "colab": {
          "base_uri": "https://localhost:8080/"
        },
        "id": "iw_YuE2m8PL9",
        "outputId": "60d04295-5bce-43d3-b36b-b7c31f5f5875"
      },
      "source": [
        "#Mesma Referência\n",
        "x = [5, 7, 9, 11]\n",
        "y = x \n",
        "print (x)\n",
        "print (y)"
      ],
      "execution_count": null,
      "outputs": [
        {
          "output_type": "stream",
          "text": [
            "[5, 7, 9, 11]\n",
            "[5, 7, 9, 11]\n"
          ],
          "name": "stdout"
        }
      ]
    },
    {
      "cell_type": "code",
      "metadata": {
        "colab": {
          "base_uri": "https://localhost:8080/"
        },
        "id": "fJozlXrM9bta",
        "outputId": "f833fd35-ac67-497b-deda-9cf4a83c596a"
      },
      "source": [
        "y[0] = 2\n",
        "print (x)\n",
        "print (y)"
      ],
      "execution_count": null,
      "outputs": [
        {
          "output_type": "stream",
          "text": [
            "[2, 7, 9, 11]\n",
            "[2, 7, 9, 11]\n"
          ],
          "name": "stdout"
        }
      ]
    },
    {
      "cell_type": "code",
      "metadata": {
        "colab": {
          "base_uri": "https://localhost:8080/"
        },
        "id": "nPLYKefM9hY4",
        "outputId": "5890207d-93d8-491b-86da-477916638baf"
      },
      "source": [
        "#cópia\n",
        "x = [5, 7, 9, 11]\n",
        "y = x[:]\n",
        "print (x)\n",
        "print (y)"
      ],
      "execution_count": null,
      "outputs": [
        {
          "output_type": "stream",
          "text": [
            "[5, 7, 9, 11]\n",
            "[5, 7, 9, 11]\n"
          ],
          "name": "stdout"
        }
      ]
    },
    {
      "cell_type": "code",
      "metadata": {
        "colab": {
          "base_uri": "https://localhost:8080/"
        },
        "id": "Iyu0ru7O-SZd",
        "outputId": "737add07-6bc3-4ba1-d9c0-48d572e5b6b9"
      },
      "source": [
        "y [0] = 2\n",
        "print (x)\n",
        "print (y)"
      ],
      "execution_count": null,
      "outputs": [
        {
          "output_type": "stream",
          "text": [
            "[5, 7, 9, 11]\n",
            "[2, 7, 9, 11]\n"
          ],
          "name": "stdout"
        }
      ]
    },
    {
      "cell_type": "markdown",
      "metadata": {
        "id": "UZTk7JO--dh3"
      },
      "source": [
        "**STRINGS E LISTAS DENTRO DE LISTAS**"
      ]
    },
    {
      "cell_type": "code",
      "metadata": {
        "colab": {
          "base_uri": "https://localhost:8080/"
        },
        "id": "7kxvJ9Qm-is1",
        "outputId": "0c067a33-7f78-4dff-fe9d-b117ea10662e"
      },
      "source": [
        "Mochila = ['Machado', 'Camisa', 'Bacon', 'Abacate']\n",
        "print (Mochila[0])"
      ],
      "execution_count": null,
      "outputs": [
        {
          "output_type": "stream",
          "text": [
            "Machado\n"
          ],
          "name": "stdout"
        }
      ]
    },
    {
      "cell_type": "code",
      "metadata": {
        "colab": {
          "base_uri": "https://localhost:8080/"
        },
        "id": "Wy9Ui3z0B4-D",
        "outputId": "ae180522-1a66-4674-a255-4faa1e877a80"
      },
      "source": [
        "Mochila = ['Machado', 'Camisa', 'Bacon', 'Abacate']\n",
        "print (Mochila [0][0])\n",
        "print (Mochila [2][1])"
      ],
      "execution_count": null,
      "outputs": [
        {
          "output_type": "stream",
          "text": [
            "M\n",
            "a\n"
          ],
          "name": "stdout"
        }
      ]
    },
    {
      "cell_type": "code",
      "metadata": {
        "colab": {
          "base_uri": "https://localhost:8080/"
        },
        "id": "zVCqMD9ACQk3",
        "outputId": "27bed98b-89a4-49cb-9f8c-96860ad31e14"
      },
      "source": [
        "Mochila = ['Machado', 'Camisa', 'Bacon', 'Abacate']\n",
        "for item in Mochila:\n",
        "  for letra in item:\n",
        "    print (letra, end ='')\n",
        "  print()"
      ],
      "execution_count": null,
      "outputs": [
        {
          "output_type": "stream",
          "text": [
            "Machado\n",
            "Camisa\n",
            "Bacon\n",
            "Abacate\n"
          ],
          "name": "stdout"
        }
      ]
    },
    {
      "cell_type": "code",
      "metadata": {
        "colab": {
          "base_uri": "https://localhost:8080/"
        },
        "id": "pEnYeCQIEGAF",
        "outputId": "3b1dc241-d548-4979-d8ab-b7eba2faec38"
      },
      "source": [
        "Mochila = ['Machado', 'Camisa', 'Bacon', 'Abacate']\n",
        "for i in range(0, len(Mochila), 1):\n",
        "  for j in range(0, len(Mochila[i]), 1):\n",
        "    print(Mochila[i][j], end='')\n",
        "  print ()"
      ],
      "execution_count": null,
      "outputs": [
        {
          "output_type": "stream",
          "text": [
            "Machado\n",
            "Camisa\n",
            "Bacon\n",
            "Abacate\n"
          ],
          "name": "stdout"
        }
      ]
    },
    {
      "cell_type": "code",
      "metadata": {
        "colab": {
          "base_uri": "https://localhost:8080/"
        },
        "id": "30nw-vPaFJK-",
        "outputId": "e3517fa2-0d7b-44de-9529-d03fee49e40c"
      },
      "source": [
        "item = []\n",
        "mercado = []\n",
        "\n",
        "for i in range(3):\n",
        "  item.append(input('Digite o nome do item: '))\n",
        "  item.append(int(input('Digite a quantidade: ')))\n",
        "  item.append(float(input('Digite o valor: ')))\n",
        "  mercado.append(item[:])\n",
        "  item.clear()\n",
        "print(mercado)"
      ],
      "execution_count": null,
      "outputs": [
        {
          "output_type": "stream",
          "text": [
            "Digite o nome do item: Tomate\n",
            "Digite a quantidade: 3\n",
            "Digite o valor: 2\n",
            "Digite o nome do item: cebola\n",
            "Digite a quantidade: 2\n",
            "Digite o valor: 4\n",
            "Digite o nome do item: Alface\n",
            "Digite a quantidade: 3\n",
            "Digite o valor: 2\n",
            "[['Tomate', 3, 2.0], ['cebola', 2, 4.0], ['Alface', 3, 2.0]]\n"
          ],
          "name": "stdout"
        }
      ]
    },
    {
      "cell_type": "code",
      "metadata": {
        "colab": {
          "base_uri": "https://localhost:8080/"
        },
        "id": "vfBLxTwRJLMe",
        "outputId": "5830e8ef-1372-43bb-b13e-212520fb1462"
      },
      "source": [
        "mercado = []\n",
        "\n",
        "for i in range(3):\n",
        "  nome = input('Digite o nome do item: ')\n",
        "  qtd = int(input('Digite a quantidade: '))\n",
        "  valor = float(input('Digite o valor: '))\n",
        "  mercado.append([nome, qtd, valor]) \n",
        "print(mercado)\n"
      ],
      "execution_count": null,
      "outputs": [
        {
          "output_type": "stream",
          "text": [
            "Digite o nome do item: Tomate\n",
            "Digite a quantidade: 2\n",
            "Digite o valor: 4\n",
            "Digite o nome do item: Alface\n",
            "Digite a quantidade: 2\n",
            "Digite o valor: 4\n",
            "Digite o nome do item: Chuchu\n",
            "Digite a quantidade: 2\n",
            "Digite o valor: 3\n",
            "[['Tomate', 2, 4.0], ['Alface', 2, 4.0], ['Chuchu', 2, 3.0]]\n"
          ],
          "name": "stdout"
        }
      ]
    },
    {
      "cell_type": "code",
      "metadata": {
        "colab": {
          "base_uri": "https://localhost:8080/"
        },
        "id": "JgHk8zQAKDyF",
        "outputId": "6abda144-9731-4800-c653-f90b680e76c7"
      },
      "source": [
        "soma = 0\n",
        "print ('Lista de compras: ')\n",
        "print ('-' * 20)\n",
        "print ('Item ! Quantidade ! Valor Unitário ! Total do Item')\n",
        "for item in mercado:\n",
        "  print ('{} ! {} ! {} ! {} !' .format(item [0], item [1], item [2], item [1] * item [2] ))\n",
        "  soma += item[1] * item[2]\n",
        "print ('-' * 20)\n",
        "print ('Total a ser pago: {}' .format(soma))"
      ],
      "execution_count": null,
      "outputs": [
        {
          "output_type": "stream",
          "text": [
            "Lista de compras: \n",
            "--------------------\n",
            "Item ! Quantidade ! Valor Unitário ! Total do Item\n",
            "Tomate ! 2 ! 4.0 ! 8.0 !\n",
            "Alface ! 2 ! 4.0 ! 8.0 !\n",
            "Chuchu ! 2 ! 3.0 ! 6.0 !\n",
            "--------------------\n",
            "Total a ser pago: 22.0\n"
          ],
          "name": "stdout"
        }
      ]
    },
    {
      "cell_type": "markdown",
      "metadata": {
        "id": "KrklydNYQpdk"
      },
      "source": [
        "**DICIONÁRIO**"
      ]
    },
    {
      "cell_type": "code",
      "metadata": {
        "colab": {
          "base_uri": "https://localhost:8080/"
        },
        "id": "G1Rev0EQQnd9",
        "outputId": "49b6489f-0e01-4132-b0cb-ba12b1404297"
      },
      "source": [
        "game = {'nome':'Super Mario',\n",
        "        'desenvolvedora': 'Nintendo',\n",
        "        'ano': 1999}\n",
        "print (game)"
      ],
      "execution_count": null,
      "outputs": [
        {
          "output_type": "stream",
          "text": [
            "{'nome': 'Super Mario', 'desenvolvedora': 'Nintendo', 'ano': 1999}\n"
          ],
          "name": "stdout"
        }
      ]
    },
    {
      "cell_type": "code",
      "metadata": {
        "colab": {
          "base_uri": "https://localhost:8080/"
        },
        "id": "DesP_6TPRlv0",
        "outputId": "a30e37d7-fcbe-47d2-a1f7-0993477a256c"
      },
      "source": [
        "print (game['nome'])\n",
        "print (game['desenvolvedora'])\n",
        "print (game['ano'])"
      ],
      "execution_count": null,
      "outputs": [
        {
          "output_type": "stream",
          "text": [
            "Super Mario\n",
            "Nintendo\n",
            "1999\n"
          ],
          "name": "stdout"
        }
      ]
    },
    {
      "cell_type": "code",
      "metadata": {
        "colab": {
          "base_uri": "https://localhost:8080/"
        },
        "id": "dQoxFQRqSDZT",
        "outputId": "e06fd5fc-6f02-450c-b760-34b282b8aa8e"
      },
      "source": [
        "print(game.values())"
      ],
      "execution_count": null,
      "outputs": [
        {
          "output_type": "stream",
          "text": [
            "dict_values(['Super Mario', 'Nintendo', 1999])\n"
          ],
          "name": "stdout"
        }
      ]
    },
    {
      "cell_type": "code",
      "metadata": {
        "colab": {
          "base_uri": "https://localhost:8080/"
        },
        "id": "YYX8WATJUm-7",
        "outputId": "5c80ef23-09c8-4736-ea0f-ccfe5a957b23"
      },
      "source": [
        "for i in game.values():\n",
        "  print(i)"
      ],
      "execution_count": null,
      "outputs": [
        {
          "output_type": "stream",
          "text": [
            "Super Mario\n",
            "Nintendo\n",
            "1999\n"
          ],
          "name": "stdout"
        }
      ]
    },
    {
      "cell_type": "code",
      "metadata": {
        "colab": {
          "base_uri": "https://localhost:8080/"
        },
        "id": "QR-WaMJvUthR",
        "outputId": "fb93ab3c-cc5e-400d-9567-8b772f0fb708"
      },
      "source": [
        "print(game.keys())"
      ],
      "execution_count": null,
      "outputs": [
        {
          "output_type": "stream",
          "text": [
            "dict_keys(['nome', 'desenvolvedora', 'ano'])\n"
          ],
          "name": "stdout"
        }
      ]
    },
    {
      "cell_type": "code",
      "metadata": {
        "colab": {
          "base_uri": "https://localhost:8080/"
        },
        "id": "2M78uyfXU0m-",
        "outputId": "65fdf192-573e-494b-d6ef-568a11fe8149"
      },
      "source": [
        "for i in game.keys():\n",
        "  print(i)"
      ],
      "execution_count": null,
      "outputs": [
        {
          "output_type": "stream",
          "text": [
            "nome\n",
            "desenvolvedora\n",
            "ano\n"
          ],
          "name": "stdout"
        }
      ]
    },
    {
      "cell_type": "code",
      "metadata": {
        "colab": {
          "base_uri": "https://localhost:8080/"
        },
        "id": "UCNWiV9tU9rR",
        "outputId": "1f008311-e165-426c-e9d7-b3c56cff72c6"
      },
      "source": [
        "print(game.items())"
      ],
      "execution_count": null,
      "outputs": [
        {
          "output_type": "stream",
          "text": [
            "dict_items([('nome', 'Super Mario'), ('desenvolvedora', 'Nintendo'), ('ano', 1999)])\n"
          ],
          "name": "stdout"
        }
      ]
    },
    {
      "cell_type": "code",
      "metadata": {
        "colab": {
          "base_uri": "https://localhost:8080/"
        },
        "id": "kjMcaLanVENc",
        "outputId": "cc445c3a-4b63-4336-cf29-10bba052775a"
      },
      "source": [
        "for i,j in game.items():\n",
        "  print('{} = {}' .format(i,j))"
      ],
      "execution_count": null,
      "outputs": [
        {
          "output_type": "stream",
          "text": [
            "nome = Super Mario\n",
            "desenvolvedora = Nintendo\n",
            "ano = 1999\n"
          ],
          "name": "stdout"
        }
      ]
    },
    {
      "cell_type": "markdown",
      "metadata": {
        "id": "vf0X-pTTV2Z3"
      },
      "source": [
        "**LISTA DE DICIONÁRIOS**"
      ]
    },
    {
      "cell_type": "code",
      "metadata": {
        "colab": {
          "background_save": true,
          "base_uri": "https://localhost:8080/"
        },
        "id": "P4Zba-fDV5H5",
        "outputId": "beec8478-4fd9-45a2-928d-125c02c27440"
      },
      "source": [
        "games = []\n",
        "game1 = {'nome':'Super Mario',\n",
        "         'Vídeo Game':'Nintendo 64',\n",
        "         'Ano':'1990'}\n",
        "game2 = {'Nome': 'Legends of Zelda',\n",
        "         'Vídeo Game':'Nintendo 64',\n",
        "         'Ano':'1998'}\n",
        "game3 = {'Nome':'Pokemon Yellow',\n",
        "         'Vídeo Game':'Game Boy',\n",
        "         'Ano': 1999}\n",
        "games = [game1, game2, game3]\n",
        "print (games)"
      ],
      "execution_count": null,
      "outputs": [
        {
          "output_type": "stream",
          "text": [
            "[{'nome': 'Super Mario', 'Vídeo Game': 'Nintendo 64', 'Ano': '1990'}, {'Nome': 'Legends of Zelda', 'Vídeo Game': 'Nintendo 64', 'Ano': '1998'}, {'Nome': 'Pokemon Yellow', 'Vídeo Game': 'Game Boy', 'Ano': 1999}]\n"
          ],
          "name": "stdout"
        }
      ]
    },
    {
      "cell_type": "code",
      "metadata": {
        "colab": {
          "base_uri": "https://localhost:8080/"
        },
        "id": "3MeB7pMFXcz6",
        "outputId": "ea4b753e-efe8-4923-cd65-384fe23844ce"
      },
      "source": [
        "game = {}\n",
        "games = []\n",
        "\n",
        "for i in range(3):\n",
        "  game['nome'] = input('Qual o nome do jogo? ')\n",
        "  game['Vídeo Game'] = input ('Para qual Vídeo Game ele foi lançado? ')\n",
        "  game['ano'] = input ('Qual o ano de lançamento? ')\n",
        "  games.append(game.copy())\n",
        "print ('-'*20)\n",
        "for e in games:\n",
        "  for i, j in e.items():\n",
        "    print('O campo {} tem o valor {}' .format (i, j))"
      ],
      "execution_count": null,
      "outputs": [
        {
          "output_type": "stream",
          "text": [
            "Qual o nome do jogo? Mario\n",
            "Para qual Vídeo Game ele foi lançado? 1980\n",
            "Qual o ano de lançamento? 12\n",
            "Qual o nome do jogo? 12\n",
            "Para qual Vídeo Game ele foi lançado? 12\n",
            "Qual o ano de lançamento? 12\n",
            "Qual o nome do jogo? 12\n",
            "Para qual Vídeo Game ele foi lançado? 12\n",
            "Qual o ano de lançamento? 12\n",
            "--------------------\n",
            "O campo nome tem o valor Mario\n",
            "O campo Vídeo Game tem o valor 1980\n",
            "O campo ano tem o valor 12\n",
            "O campo nome tem o valor 12\n",
            "O campo Vídeo Game tem o valor 12\n",
            "O campo ano tem o valor 12\n",
            "O campo nome tem o valor 12\n",
            "O campo Vídeo Game tem o valor 12\n",
            "O campo ano tem o valor 12\n"
          ],
          "name": "stdout"
        }
      ]
    },
    {
      "cell_type": "code",
      "metadata": {
        "colab": {
          "base_uri": "https://localhost:8080/"
        },
        "id": "PF6HRfYkY5_D",
        "outputId": "79de5051-9921-409e-cb22-308f00a80c48"
      },
      "source": [
        "games = {'Nome': ['Super Mario', 'Zelda Ocarina of Time', 'Pokemon Yellow'],\n",
        "         'Vídeo Game': ['Super Nintendo', 'Nintendo 64', 'Game Boy'],\n",
        "         'ano':[1990, 1998, 1999]}\n",
        "print(games)"
      ],
      "execution_count": null,
      "outputs": [
        {
          "output_type": "stream",
          "text": [
            "{'Nome': ['Super Mario', 'Zelda Ocarina of Time', 'Pokemon Yellow'], 'Vídeo Game': ['Super Nintendo', 'Nintendo 64', 'Game Boy'], 'ano': [1990, 1998, 1999]}\n"
          ],
          "name": "stdout"
        }
      ]
    },
    {
      "cell_type": "code",
      "metadata": {
        "colab": {
          "base_uri": "https://localhost:8080/"
        },
        "id": "OQd7pcqsZe1p",
        "outputId": "5d513659-77c9-425c-d9b0-0cb715b4f15b"
      },
      "source": [
        "games = {'nome':[], 'videogame':[], 'ano':[]}\n",
        "for i in range(3):\n",
        "  nome = input('Qual o nome do jogo? ')\n",
        "  videogame = input ('Para qual Vídeo Game ele foi lançado? ')\n",
        "  ano = input ('Qual o ano do lançamento? 3\n",
        "  ')\n",
        "  games['nome'].append(nome)\n",
        "  games['videogame'].append(videogame)\n",
        "  games['ano'].append(ano)\n",
        "print('-' * 20)\n",
        "print (games)"
      ],
      "execution_count": null,
      "outputs": [
        {
          "output_type": "stream",
          "text": [
            "Qual o nome do jogo? super mariao\n",
            "Para qual Vídeo Game ele foi lançado? sn\n",
            "Qual o ano do lançamento?1980\n",
            "Qual o nome do jogo? 1\n",
            "Para qual Vídeo Game ele foi lançado? 2\n",
            "Qual o ano do lançamento?3\n",
            "Qual o nome do jogo? 1\n",
            "Para qual Vídeo Game ele foi lançado? 2\n",
            "Qual o ano do lançamento?3\n",
            "--------------------\n",
            "{'nome': ['super mariao', '1', '1'], 'videogame': ['sn', '2', '2'], 'ano': ['1980', '3', '3']}\n"
          ],
          "name": "stdout"
        }
      ]
    },
    {
      "cell_type": "markdown",
      "metadata": {
        "id": "bo5WjF3Pb4No"
      },
      "source": [
        "**TRABALHANDO COM MÉTODOS EM STRINGS**"
      ]
    },
    {
      "cell_type": "code",
      "metadata": {
        "id": "LevmgVi-b8XF"
      },
      "source": [
        ""
      ],
      "execution_count": null,
      "outputs": []
    }
  ]
}